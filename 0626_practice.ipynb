{
  "nbformat": 4,
  "nbformat_minor": 0,
  "metadata": {
    "colab": {
      "name": "0626_practice.ipynb",
      "provenance": [],
      "collapsed_sections": [],
      "authorship_tag": "ABX9TyNdkv9+qjMmdqNMz9t/WYIK",
      "include_colab_link": true
    },
    "kernelspec": {
      "name": "python3",
      "display_name": "Python 3"
    },
    "language_info": {
      "name": "python"
    }
  },
  "cells": [
    {
      "cell_type": "markdown",
      "metadata": {
        "id": "view-in-github",
        "colab_type": "text"
      },
      "source": [
        "<a href=\"https://colab.research.google.com/github/rumcrush/cakd3/blob/main/0626_practice.ipynb\" target=\"_parent\"><img src=\"https://colab.research.google.com/assets/colab-badge.svg\" alt=\"Open In Colab\"/></a>"
      ]
    },
    {
      "cell_type": "code",
      "metadata": {
        "colab": {
          "base_uri": "https://localhost:8080/"
        },
        "id": "EXOb24PFmHvL",
        "outputId": "e1796833-982f-4fc8-b0f5-103e74a52b6f"
      },
      "source": [
        "i = 2\n",
        "for i in range(1,10):\n",
        "  i *= 2\n",
        "  print(i)"
      ],
      "execution_count": null,
      "outputs": [
        {
          "output_type": "stream",
          "text": [
            "2\n",
            "4\n",
            "6\n",
            "8\n",
            "10\n",
            "12\n",
            "14\n",
            "16\n",
            "18\n"
          ],
          "name": "stdout"
        }
      ]
    },
    {
      "cell_type": "code",
      "metadata": {
        "id": "jv73X-ShnZx4"
      },
      "source": [
        "## 리스트 컴프리헨션\n",
        "# [(변수를 활용한 값) for (사용할 변수 이름) in (순회할 수 있는 값)]"
      ],
      "execution_count": null,
      "outputs": []
    },
    {
      "cell_type": "code",
      "metadata": {
        "colab": {
          "base_uri": "https://localhost:8080/"
        },
        "id": "YmtM0PbDoWdc",
        "outputId": "434fab5f-6f34-4d02-a034-ab32c0b503fb"
      },
      "source": [
        "size = 10\n",
        "arr = [i * 2 for i in range(size)]\n",
        "new_arr = [n * n for n in arr]\n",
        "print(arr)\n",
        "print(new_arr)"
      ],
      "execution_count": null,
      "outputs": [
        {
          "output_type": "stream",
          "text": [
            "[0, 2, 4, 6, 8, 10, 12, 14, 16, 18]\n",
            "[0, 4, 16, 36, 64, 100, 144, 196, 256, 324]\n"
          ],
          "name": "stdout"
        }
      ]
    },
    {
      "cell_type": "code",
      "metadata": {
        "colab": {
          "base_uri": "https://localhost:8080/"
        },
        "id": "a1bet_G0r9mF",
        "outputId": "db392b22-ed74-4fcd-e034-00d1931d5730"
      },
      "source": [
        "arr = []\n",
        "\n",
        "for i in range(0, 20, 2):\n",
        "  arr.append(i*i)\n",
        "print(arr)"
      ],
      "execution_count": null,
      "outputs": [
        {
          "output_type": "stream",
          "text": [
            "[0, 4, 16, 36, 64, 100, 144, 196, 256, 324]\n"
          ],
          "name": "stdout"
        }
      ]
    },
    {
      "cell_type": "code",
      "metadata": {
        "colab": {
          "base_uri": "https://localhost:8080/"
        },
        "id": "W1CHLr1stDr0",
        "outputId": "f8eed271-acfd-439e-f0c9-404c76c2253c"
      },
      "source": [
        "arr = [i * i for i in range(0, 20, 2)]\n",
        "arr"
      ],
      "execution_count": null,
      "outputs": [
        {
          "output_type": "execute_result",
          "data": {
            "text/plain": [
              "[0, 4, 16, 36, 64, 100, 144, 196, 256, 324]"
            ]
          },
          "metadata": {
            "tags": []
          },
          "execution_count": 61
        }
      ]
    },
    {
      "cell_type": "code",
      "metadata": {
        "colab": {
          "base_uri": "https://localhost:8080/"
        },
        "id": "j-5bupIQtmL8",
        "outputId": "e62cd856-f110-4238-8397-51b949d60637"
      },
      "source": [
        "a = ['a','b','c','d','e', '1','2','3']\n",
        "print(a)\n",
        "\n",
        "result1 = \"\".join(a)\n",
        "print(result1)\n",
        "\n",
        "\n",
        "result2 = ''\n",
        "for v in a:\n",
        "  result2 += v\n",
        "print(result2)\n",
        "\n",
        "result3 = \":\".join(a)\n",
        "print(result3)"
      ],
      "execution_count": null,
      "outputs": [
        {
          "output_type": "stream",
          "text": [
            "['a', 'b', 'c', 'd', 'e', '1', '2', '3']\n",
            "abcde123\n",
            "abcde123\n",
            "a:b:c:d:e:1:2:3\n"
          ],
          "name": "stdout"
        }
      ]
    },
    {
      "cell_type": "code",
      "metadata": {
        "colab": {
          "base_uri": "https://localhost:8080/"
        },
        "id": "ytm3ZfqWup1t",
        "outputId": "0f2f8ce0-77a6-4201-f2f7-f76e646d5955"
      },
      "source": [
        "a = ['loona', 'oec', 'yyxy', 'yeojin', 'bunsu']\n",
        "print(a)\n",
        "\n",
        "result4 = \"/\".join(a)\n",
        "print(result4)\n"
      ],
      "execution_count": null,
      "outputs": [
        {
          "output_type": "stream",
          "text": [
            "['loona', 'oec', 'yyxy', 'yeojin', 'bunsu']\n",
            "loona/oec/yyxy/yeojin/bunsu\n"
          ],
          "name": "stdout"
        }
      ]
    },
    {
      "cell_type": "code",
      "metadata": {
        "colab": {
          "base_uri": "https://localhost:8080/"
        },
        "id": "t9bKOxxMvRAd",
        "outputId": "c22e5dce-8ae6-4fc5-dd6d-16ad05bc877c"
      },
      "source": [
        "a = ['loona', 'oec', 'yyxy', 'yeojin', 'bunsu']\n",
        "# 리스트를 문자열로 합치기 \n",
        "result5 = \"\\n\".join(a)\n",
        "print(result5)"
      ],
      "execution_count": null,
      "outputs": [
        {
          "output_type": "stream",
          "text": [
            "loona\n",
            "oec\n",
            "yyxy\n",
            "yeojin\n",
            "bunsu\n"
          ],
          "name": "stdout"
        }
      ]
    },
    {
      "cell_type": "code",
      "metadata": {
        "colab": {
          "base_uri": "https://localhost:8080/"
        },
        "id": "koIvJD_WvaOV",
        "outputId": "a252833a-2a68-4e63-b9f4-15b3cf70ad82"
      },
      "source": [
        "onefive = ['soyo', 'kano', 'gumi', 'momo']\n",
        "result6 = \" & \".join(onefive)\n",
        "print(result6)\n",
        "# print안에 result6 이외의 내용이 들어가면 에러남 "
      ],
      "execution_count": null,
      "outputs": [
        {
          "output_type": "stream",
          "text": [
            "soyo & kano & gumi & momo\n"
          ],
          "name": "stdout"
        }
      ]
    },
    {
      "cell_type": "code",
      "metadata": {
        "colab": {
          "base_uri": "https://localhost:8080/"
        },
        "id": "MjbDKFARv1Xk",
        "outputId": "09bef83d-6807-44e2-8200-77a3fcc32fd1"
      },
      "source": [
        "num_list = [i * i for i in range(0, 20, 3)]\n",
        "print(num_list)\n",
        "len(num_list)"
      ],
      "execution_count": null,
      "outputs": [
        {
          "output_type": "stream",
          "text": [
            "[0, 9, 36, 81, 144, 225, 324]\n"
          ],
          "name": "stdout"
        },
        {
          "output_type": "execute_result",
          "data": {
            "text/plain": [
              "7"
            ]
          },
          "metadata": {
            "tags": []
          },
          "execution_count": 74
        }
      ]
    },
    {
      "cell_type": "code",
      "metadata": {
        "colab": {
          "base_uri": "https://localhost:8080/",
          "height": 134
        },
        "id": "MkYPFJRf5t42",
        "outputId": "b99ef804-7259-4d13-cd0a-fa86b3eea072"
      },
      "source": [
        "def countdown(n):\n",
        "  global n\n",
        "  if n == 0:\n",
        "    print(\"happy new year\")\n",
        "  else:\n",
        "    print(n)\n",
        "    countdown(n-1)\n",
        "\n",
        "countdown(3)\n"
      ],
      "execution_count": null,
      "outputs": [
        {
          "output_type": "error",
          "ename": "SyntaxError",
          "evalue": "ignored",
          "traceback": [
            "\u001b[0;36m  File \u001b[0;32m\"<ipython-input-82-58e7436f7e85>\"\u001b[0;36m, line \u001b[0;32m2\u001b[0m\n\u001b[0;31m    global n\u001b[0m\n\u001b[0m    ^\u001b[0m\n\u001b[0;31mSyntaxError\u001b[0m\u001b[0;31m:\u001b[0m name 'n' is parameter and global\n"
          ]
        }
      ]
    },
    {
      "cell_type": "code",
      "metadata": {
        "colab": {
          "base_uri": "https://localhost:8080/"
        },
        "id": "FWgbkR-e_A6z",
        "outputId": "e62bf9fa-a319-40a4-9ebf-f686d642f40c"
      },
      "source": [
        "import math\n",
        "\n",
        "result7 = math.factorial(5)\n",
        "\n",
        "print(result7)"
      ],
      "execution_count": null,
      "outputs": [
        {
          "output_type": "stream",
          "text": [
            "120\n"
          ],
          "name": "stdout"
        }
      ]
    },
    {
      "cell_type": "code",
      "metadata": {
        "colab": {
          "base_uri": "https://localhost:8080/"
        },
        "id": "wtvXMVlU_mxM",
        "outputId": "f1ddeea2-d12d-482c-e424-da926d7d7717"
      },
      "source": [
        "def mul(n):\n",
        "  if(n > 1):\n",
        "    return n * mul(n-1)\n",
        "  else:\n",
        "    return 1\n",
        "\n",
        "print(mul(5))"
      ],
      "execution_count": null,
      "outputs": [
        {
          "output_type": "stream",
          "text": [
            "120\n"
          ],
          "name": "stdout"
        }
      ]
    },
    {
      "cell_type": "code",
      "metadata": {
        "colab": {
          "base_uri": "https://localhost:8080/"
        },
        "id": "5b6lPNSCDKhc",
        "outputId": "2483dd04-5985-4745-e7f1-67d7d9c7d31f"
      },
      "source": [
        "a = [\"1\",\"2\",\"3\",\"4\",\"5\"]\n",
        "a = list(map(float, a))\n",
        "a"
      ],
      "execution_count": null,
      "outputs": [
        {
          "output_type": "execute_result",
          "data": {
            "text/plain": [
              "[1.0, 2.0, 3.0, 4.0, 5.0]"
            ]
          },
          "metadata": {
            "tags": []
          },
          "execution_count": 93
        }
      ]
    },
    {
      "cell_type": "code",
      "metadata": {
        "colab": {
          "base_uri": "https://localhost:8080/"
        },
        "id": "r9b0cVseD00S",
        "outputId": "aa667db0-6bc1-4a6f-b34f-3ed0dfd7d864"
      },
      "source": [
        "a = [1,2,3,4,5]\n",
        "a = list(map(float, a))\n",
        "a"
      ],
      "execution_count": null,
      "outputs": [
        {
          "output_type": "execute_result",
          "data": {
            "text/plain": [
              "[1.0, 2.0, 3.0, 4.0, 5.0]"
            ]
          },
          "metadata": {
            "tags": []
          },
          "execution_count": 95
        }
      ]
    },
    {
      "cell_type": "code",
      "metadata": {
        "id": "m9j1H2sPEgSJ",
        "colab": {
          "base_uri": "https://localhost:8080/"
        },
        "outputId": "8f23ef3c-393e-4716-df90-aa2188eefaf4"
      },
      "source": [
        "a = [5,6,7,3,9]\n",
        "a = list(map(float, a))\n",
        "a"
      ],
      "execution_count": null,
      "outputs": [
        {
          "output_type": "execute_result",
          "data": {
            "text/plain": [
              "[5.0, 6.0, 7.0, 3.0, 9.0]"
            ]
          },
          "metadata": {
            "tags": []
          },
          "execution_count": 96
        }
      ]
    },
    {
      "cell_type": "code",
      "metadata": {
        "colab": {
          "base_uri": "https://localhost:8080/"
        },
        "id": "lsTNFYb5QHS5",
        "outputId": "b68231cd-e340-427c-ab15-2358ba0d9647"
      },
      "source": [
        "x1 = 1\n",
        "s1 = 0 \n",
        "\n",
        "while x1 < 1001:\n",
        "  if x1 % 3 == 0:\n",
        "    s1 += x1\n",
        "  x1 += 1\n",
        "print(s1)\n",
        "\n",
        "    \n"
      ],
      "execution_count": 7,
      "outputs": [
        {
          "output_type": "stream",
          "text": [
            "166833\n"
          ],
          "name": "stdout"
        }
      ]
    },
    {
      "cell_type": "code",
      "metadata": {
        "colab": {
          "base_uri": "https://localhost:8080/"
        },
        "id": "tOZ1AWiOTYHS",
        "outputId": "25662b37-4c03-41ac-a13e-90b2134d686c"
      },
      "source": [
        "# 5~500까지 5의 배수만 더하기 \n",
        "\n",
        "\n",
        "s1 = 0\n",
        "\n",
        "for x in range(5,500):\n",
        "  if x % 5 == 0:\n",
        "    s1 += x\n",
        "  else:\n",
        "    x += 1\n",
        "  print(s1)\n",
        "\n"
      ],
      "execution_count": 8,
      "outputs": [
        {
          "output_type": "stream",
          "text": [
            "5\n",
            "5\n",
            "5\n",
            "5\n",
            "5\n",
            "15\n",
            "15\n",
            "15\n",
            "15\n",
            "15\n",
            "30\n",
            "30\n",
            "30\n",
            "30\n",
            "30\n",
            "50\n",
            "50\n",
            "50\n",
            "50\n",
            "50\n",
            "75\n",
            "75\n",
            "75\n",
            "75\n",
            "75\n",
            "105\n",
            "105\n",
            "105\n",
            "105\n",
            "105\n",
            "140\n",
            "140\n",
            "140\n",
            "140\n",
            "140\n",
            "180\n",
            "180\n",
            "180\n",
            "180\n",
            "180\n",
            "225\n",
            "225\n",
            "225\n",
            "225\n",
            "225\n",
            "275\n",
            "275\n",
            "275\n",
            "275\n",
            "275\n",
            "330\n",
            "330\n",
            "330\n",
            "330\n",
            "330\n",
            "390\n",
            "390\n",
            "390\n",
            "390\n",
            "390\n",
            "455\n",
            "455\n",
            "455\n",
            "455\n",
            "455\n",
            "525\n",
            "525\n",
            "525\n",
            "525\n",
            "525\n",
            "600\n",
            "600\n",
            "600\n",
            "600\n",
            "600\n",
            "680\n",
            "680\n",
            "680\n",
            "680\n",
            "680\n",
            "765\n",
            "765\n",
            "765\n",
            "765\n",
            "765\n",
            "855\n",
            "855\n",
            "855\n",
            "855\n",
            "855\n",
            "950\n",
            "950\n",
            "950\n",
            "950\n",
            "950\n",
            "1050\n",
            "1050\n",
            "1050\n",
            "1050\n",
            "1050\n",
            "1155\n",
            "1155\n",
            "1155\n",
            "1155\n",
            "1155\n",
            "1265\n",
            "1265\n",
            "1265\n",
            "1265\n",
            "1265\n",
            "1380\n",
            "1380\n",
            "1380\n",
            "1380\n",
            "1380\n",
            "1500\n",
            "1500\n",
            "1500\n",
            "1500\n",
            "1500\n",
            "1625\n",
            "1625\n",
            "1625\n",
            "1625\n",
            "1625\n",
            "1755\n",
            "1755\n",
            "1755\n",
            "1755\n",
            "1755\n",
            "1890\n",
            "1890\n",
            "1890\n",
            "1890\n",
            "1890\n",
            "2030\n",
            "2030\n",
            "2030\n",
            "2030\n",
            "2030\n",
            "2175\n",
            "2175\n",
            "2175\n",
            "2175\n",
            "2175\n",
            "2325\n",
            "2325\n",
            "2325\n",
            "2325\n",
            "2325\n",
            "2480\n",
            "2480\n",
            "2480\n",
            "2480\n",
            "2480\n",
            "2640\n",
            "2640\n",
            "2640\n",
            "2640\n",
            "2640\n",
            "2805\n",
            "2805\n",
            "2805\n",
            "2805\n",
            "2805\n",
            "2975\n",
            "2975\n",
            "2975\n",
            "2975\n",
            "2975\n",
            "3150\n",
            "3150\n",
            "3150\n",
            "3150\n",
            "3150\n",
            "3330\n",
            "3330\n",
            "3330\n",
            "3330\n",
            "3330\n",
            "3515\n",
            "3515\n",
            "3515\n",
            "3515\n",
            "3515\n",
            "3705\n",
            "3705\n",
            "3705\n",
            "3705\n",
            "3705\n",
            "3900\n",
            "3900\n",
            "3900\n",
            "3900\n",
            "3900\n",
            "4100\n",
            "4100\n",
            "4100\n",
            "4100\n",
            "4100\n",
            "4305\n",
            "4305\n",
            "4305\n",
            "4305\n",
            "4305\n",
            "4515\n",
            "4515\n",
            "4515\n",
            "4515\n",
            "4515\n",
            "4730\n",
            "4730\n",
            "4730\n",
            "4730\n",
            "4730\n",
            "4950\n",
            "4950\n",
            "4950\n",
            "4950\n",
            "4950\n",
            "5175\n",
            "5175\n",
            "5175\n",
            "5175\n",
            "5175\n",
            "5405\n",
            "5405\n",
            "5405\n",
            "5405\n",
            "5405\n",
            "5640\n",
            "5640\n",
            "5640\n",
            "5640\n",
            "5640\n",
            "5880\n",
            "5880\n",
            "5880\n",
            "5880\n",
            "5880\n",
            "6125\n",
            "6125\n",
            "6125\n",
            "6125\n",
            "6125\n",
            "6375\n",
            "6375\n",
            "6375\n",
            "6375\n",
            "6375\n",
            "6630\n",
            "6630\n",
            "6630\n",
            "6630\n",
            "6630\n",
            "6890\n",
            "6890\n",
            "6890\n",
            "6890\n",
            "6890\n",
            "7155\n",
            "7155\n",
            "7155\n",
            "7155\n",
            "7155\n",
            "7425\n",
            "7425\n",
            "7425\n",
            "7425\n",
            "7425\n",
            "7700\n",
            "7700\n",
            "7700\n",
            "7700\n",
            "7700\n",
            "7980\n",
            "7980\n",
            "7980\n",
            "7980\n",
            "7980\n",
            "8265\n",
            "8265\n",
            "8265\n",
            "8265\n",
            "8265\n",
            "8555\n",
            "8555\n",
            "8555\n",
            "8555\n",
            "8555\n",
            "8850\n",
            "8850\n",
            "8850\n",
            "8850\n",
            "8850\n",
            "9150\n",
            "9150\n",
            "9150\n",
            "9150\n",
            "9150\n",
            "9455\n",
            "9455\n",
            "9455\n",
            "9455\n",
            "9455\n",
            "9765\n",
            "9765\n",
            "9765\n",
            "9765\n",
            "9765\n",
            "10080\n",
            "10080\n",
            "10080\n",
            "10080\n",
            "10080\n",
            "10400\n",
            "10400\n",
            "10400\n",
            "10400\n",
            "10400\n",
            "10725\n",
            "10725\n",
            "10725\n",
            "10725\n",
            "10725\n",
            "11055\n",
            "11055\n",
            "11055\n",
            "11055\n",
            "11055\n",
            "11390\n",
            "11390\n",
            "11390\n",
            "11390\n",
            "11390\n",
            "11730\n",
            "11730\n",
            "11730\n",
            "11730\n",
            "11730\n",
            "12075\n",
            "12075\n",
            "12075\n",
            "12075\n",
            "12075\n",
            "12425\n",
            "12425\n",
            "12425\n",
            "12425\n",
            "12425\n",
            "12780\n",
            "12780\n",
            "12780\n",
            "12780\n",
            "12780\n",
            "13140\n",
            "13140\n",
            "13140\n",
            "13140\n",
            "13140\n",
            "13505\n",
            "13505\n",
            "13505\n",
            "13505\n",
            "13505\n",
            "13875\n",
            "13875\n",
            "13875\n",
            "13875\n",
            "13875\n",
            "14250\n",
            "14250\n",
            "14250\n",
            "14250\n",
            "14250\n",
            "14630\n",
            "14630\n",
            "14630\n",
            "14630\n",
            "14630\n",
            "15015\n",
            "15015\n",
            "15015\n",
            "15015\n",
            "15015\n",
            "15405\n",
            "15405\n",
            "15405\n",
            "15405\n",
            "15405\n",
            "15800\n",
            "15800\n",
            "15800\n",
            "15800\n",
            "15800\n",
            "16200\n",
            "16200\n",
            "16200\n",
            "16200\n",
            "16200\n",
            "16605\n",
            "16605\n",
            "16605\n",
            "16605\n",
            "16605\n",
            "17015\n",
            "17015\n",
            "17015\n",
            "17015\n",
            "17015\n",
            "17430\n",
            "17430\n",
            "17430\n",
            "17430\n",
            "17430\n",
            "17850\n",
            "17850\n",
            "17850\n",
            "17850\n",
            "17850\n",
            "18275\n",
            "18275\n",
            "18275\n",
            "18275\n",
            "18275\n",
            "18705\n",
            "18705\n",
            "18705\n",
            "18705\n",
            "18705\n",
            "19140\n",
            "19140\n",
            "19140\n",
            "19140\n",
            "19140\n",
            "19580\n",
            "19580\n",
            "19580\n",
            "19580\n",
            "19580\n",
            "20025\n",
            "20025\n",
            "20025\n",
            "20025\n",
            "20025\n",
            "20475\n",
            "20475\n",
            "20475\n",
            "20475\n",
            "20475\n",
            "20930\n",
            "20930\n",
            "20930\n",
            "20930\n",
            "20930\n",
            "21390\n",
            "21390\n",
            "21390\n",
            "21390\n",
            "21390\n",
            "21855\n",
            "21855\n",
            "21855\n",
            "21855\n",
            "21855\n",
            "22325\n",
            "22325\n",
            "22325\n",
            "22325\n",
            "22325\n",
            "22800\n",
            "22800\n",
            "22800\n",
            "22800\n",
            "22800\n",
            "23280\n",
            "23280\n",
            "23280\n",
            "23280\n",
            "23280\n",
            "23765\n",
            "23765\n",
            "23765\n",
            "23765\n",
            "23765\n",
            "24255\n",
            "24255\n",
            "24255\n",
            "24255\n",
            "24255\n",
            "24750\n",
            "24750\n",
            "24750\n",
            "24750\n",
            "24750\n"
          ],
          "name": "stdout"
        }
      ]
    },
    {
      "cell_type": "code",
      "metadata": {
        "colab": {
          "base_uri": "https://localhost:8080/"
        },
        "id": "g6r5AkpMUcsR",
        "outputId": "bfe272f5-cb81-4cdb-e800-61fd2e0249b0"
      },
      "source": [
        "# 1부터 10까지 2의 배수만 더하기 \n",
        "# while문 \n",
        "\n",
        "x = 1 \n",
        "s = 0 \n",
        "\n",
        "while x < 11:\n",
        "  if x % 2 == 0:\n",
        "    s += x\n",
        "  x += 1\n",
        "print(s)"
      ],
      "execution_count": 19,
      "outputs": [
        {
          "output_type": "stream",
          "text": [
            "30\n"
          ],
          "name": "stdout"
        }
      ]
    },
    {
      "cell_type": "code",
      "metadata": {
        "colab": {
          "base_uri": "https://localhost:8080/"
        },
        "id": "RScIgg7zVfBX",
        "outputId": "036ca658-6550-438e-a4f0-1c0c503bca35"
      },
      "source": [
        "# 6부터 600까지 6의 배수만 구하기\n",
        "# while문 \n",
        "\n",
        "x = 6\n",
        "sum = 0 \n",
        "\n",
        "while x < 601:\n",
        "  if x % 6 == 0:\n",
        "    sum += x\n",
        "  x += 1\n",
        "print(sum) \n",
        "\n"
      ],
      "execution_count": 22,
      "outputs": [
        {
          "output_type": "stream",
          "text": [
            "30300\n"
          ],
          "name": "stdout"
        }
      ]
    },
    {
      "cell_type": "code",
      "metadata": {
        "colab": {
          "base_uri": "https://localhost:8080/"
        },
        "id": "nrOfighDXR8x",
        "outputId": "05c026dc-650d-414d-9f84-1066d67f1b47"
      },
      "source": [
        "# 1부터 10까지 중에서 3의 배수를 뺀 나머지 값을 출력\n",
        "\n",
        "a = 0 \n",
        "while a < 10:\n",
        "  a = a + 1\n",
        "  if a % 3 == 0:\n",
        "    continue\n",
        "print(a)"
      ],
      "execution_count": 29,
      "outputs": [
        {
          "output_type": "stream",
          "text": [
            "10\n"
          ],
          "name": "stdout"
        }
      ]
    },
    {
      "cell_type": "code",
      "metadata": {
        "colab": {
          "base_uri": "https://localhost:8080/"
        },
        "id": "vR2we0e7aZ5b",
        "outputId": "71a3652f-f37e-4086-bc6a-836c8f94cf99"
      },
      "source": [
        "# while 문을 사용해서 1부터 1000까지 정수 중 3과 5의 공배수의 합을 구하시오\n",
        "\n",
        "\n",
        "x = 1\n",
        "s = 0 \n",
        "\n",
        "while x < 1001:\n",
        "  if x % 3 == 0 and x % 5 == 0:\n",
        "    s += x\n",
        "  x+=1\n",
        "print(s)\n"
      ],
      "execution_count": 38,
      "outputs": [
        {
          "output_type": "stream",
          "text": [
            "33165\n"
          ],
          "name": "stdout"
        }
      ]
    },
    {
      "cell_type": "code",
      "metadata": {
        "colab": {
          "base_uri": "https://localhost:8080/"
        },
        "id": "yp4gA_teg1l9",
        "outputId": "57dbd3d3-5037-4ec8-a4cd-22d13c9687ae"
      },
      "source": [
        "\n",
        "x = 1 \n",
        "s = 0 \n",
        "\n",
        "for i in range(1, 100):\n",
        "  if x > 4 and x < 96:\n",
        "    s += x\n",
        "  x += 1\n",
        "print(s)"
      ],
      "execution_count": 42,
      "outputs": [
        {
          "output_type": "stream",
          "text": [
            "4550\n"
          ],
          "name": "stdout"
        }
      ]
    },
    {
      "cell_type": "code",
      "metadata": {
        "colab": {
          "base_uri": "https://localhost:8080/"
        },
        "id": "22B1tJCHivq1",
        "outputId": "a20e65ba-08ca-4575-e677-04d075ba7cd4"
      },
      "source": [
        "# 1부터 50까지 숫자 중에서 3 부터 39까지의 곱하기를 구하세요 \n",
        "\n",
        "x = 1\n",
        "mul = 1 \n",
        "\n",
        "while x < 51:\n",
        "  if x > 2 and x < 40:\n",
        "    mul *= x\n",
        "  x += 1\n",
        "print(mul)\n"
      ],
      "execution_count": 45,
      "outputs": [
        {
          "output_type": "stream",
          "text": [
            "10198941040598721679320140869951448678400000000\n"
          ],
          "name": "stdout"
        }
      ]
    },
    {
      "cell_type": "code",
      "metadata": {
        "colab": {
          "base_uri": "https://localhost:8080/"
        },
        "id": "K3NpYBcZjWMb",
        "outputId": "b5e2fc35-b604-4147-d7a6-71f0a2d5f8cd"
      },
      "source": [
        "x = 1 \n",
        "mul = 1 \n",
        "\n",
        "for i in range(1, 50):\n",
        "  if x > 2 and x < 40:\n",
        "    mul *= x\n",
        "  x += 1\n",
        "print(mul)\n",
        "\n"
      ],
      "execution_count": 46,
      "outputs": [
        {
          "output_type": "stream",
          "text": [
            "10198941040598721679320140869951448678400000000\n"
          ],
          "name": "stdout"
        }
      ]
    },
    {
      "cell_type": "code",
      "metadata": {
        "colab": {
          "base_uri": "https://localhost:8080/"
        },
        "id": "yFl2swAKkXAL",
        "outputId": "d33e1f7d-3073-4f07-f1f3-1a80d79d81a6"
      },
      "source": [
        "x = 1\n",
        "sum = 0 \n",
        "\n",
        "while x < 101:\n",
        "  x += 1\n",
        "  if x < 5:\n",
        "    continue \n",
        "  sum += x\n",
        "  if x > 95:\n",
        "    break\n",
        "print(sum)"
      ],
      "execution_count": 56,
      "outputs": [
        {
          "output_type": "stream",
          "text": [
            "4646\n"
          ],
          "name": "stdout"
        }
      ]
    },
    {
      "cell_type": "code",
      "metadata": {
        "colab": {
          "base_uri": "https://localhost:8080/"
        },
        "id": "LHCgFy8Am4wN",
        "outputId": "2353a5a2-7071-43cc-c531-8a11353e0b4e"
      },
      "source": [
        "# 1부터 30 중에 2에서 25까지의 합\n",
        "\n",
        "x = 1\n",
        "sum = 0 \n",
        "\n",
        "while x < 31:\n",
        "  x += 1\n",
        "  if x > 1:\n",
        "    sum += x\n",
        "    continue\n",
        "  if x < 26:\n",
        "    break\n",
        "\n",
        "print(sum)\n"
      ],
      "execution_count": 61,
      "outputs": [
        {
          "output_type": "stream",
          "text": [
            "495\n"
          ],
          "name": "stdout"
        }
      ]
    },
    {
      "cell_type": "code",
      "metadata": {
        "colab": {
          "base_uri": "https://localhost:8080/"
        },
        "id": "paNDvHsCopBk",
        "outputId": "80556b08-8e5b-4bbc-9f58-834415a74b42"
      },
      "source": [
        "sum = 0 \n",
        "\n",
        "for i in range(1,10):\n",
        "  sum += i\n",
        "print(sum)\n",
        "  \n",
        "\n"
      ],
      "execution_count": 71,
      "outputs": [
        {
          "output_type": "stream",
          "text": [
            "45\n"
          ],
          "name": "stdout"
        }
      ]
    },
    {
      "cell_type": "code",
      "metadata": {
        "colab": {
          "base_uri": "https://localhost:8080/"
        },
        "id": "-Bz0eubLqGLD",
        "outputId": "1df1a283-cb8b-42fc-a6d7-fef6c8a06920"
      },
      "source": [
        "sum = 0 \n",
        "\n",
        "for i in range(5,15):\n",
        "  sum += i\n",
        "print(sum)"
      ],
      "execution_count": 72,
      "outputs": [
        {
          "output_type": "stream",
          "text": [
            "95\n"
          ],
          "name": "stdout"
        }
      ]
    },
    {
      "cell_type": "code",
      "metadata": {
        "colab": {
          "base_uri": "https://localhost:8080/"
        },
        "id": "dl_blgrsqdN5",
        "outputId": "e43d1e54-d8d0-4157-fc78-2373c7053ebc"
      },
      "source": [
        "sum = 0 \n",
        "\n",
        "for i in range(1,20):\n",
        "  sum += i\n",
        "print(sum)"
      ],
      "execution_count": 73,
      "outputs": [
        {
          "output_type": "stream",
          "text": [
            "190\n"
          ],
          "name": "stdout"
        }
      ]
    },
    {
      "cell_type": "code",
      "metadata": {
        "colab": {
          "base_uri": "https://localhost:8080/"
        },
        "id": "YHtc9wPZrHiz",
        "outputId": "f8dc65c3-a1b9-4604-e60c-af58f49ea0fe"
      },
      "source": [
        "sum = 0 \n",
        "\n",
        "for i in range(9, 81):\n",
        "  sum += i \n",
        "print(sum)"
      ],
      "execution_count": 74,
      "outputs": [
        {
          "output_type": "stream",
          "text": [
            "3204\n"
          ],
          "name": "stdout"
        }
      ]
    },
    {
      "cell_type": "code",
      "metadata": {
        "colab": {
          "base_uri": "https://localhost:8080/"
        },
        "id": "diH9N7zGrNQS",
        "outputId": "fa398916-f199-4a12-8ddf-a98f6f0578b4"
      },
      "source": [
        "sum = 0 \n",
        "\n",
        "for i in range(2,55):\n",
        "  sum += i\n",
        "print(sum)"
      ],
      "execution_count": 75,
      "outputs": [
        {
          "output_type": "stream",
          "text": [
            "1484\n"
          ],
          "name": "stdout"
        }
      ]
    },
    {
      "cell_type": "code",
      "metadata": {
        "colab": {
          "base_uri": "https://localhost:8080/"
        },
        "id": "5FKR4gUzrfjT",
        "outputId": "5d5b165c-f78b-4540-dbc8-403fbd945803"
      },
      "source": [
        "# 1~100까지 합\n",
        "# 1~4까지 합\n",
        "# 96~101까지 합 \n",
        "\n",
        "sum_1 = 0\n",
        "sum_2 = 0\n",
        "sum_3 = 0\n",
        "\n",
        "\n",
        "for i in range(1,101):\n",
        "  sum_1 += i\n",
        "\n",
        "for i in range(1,5):\n",
        "  sum_2 += i\n",
        "\n",
        "for i in range(96,102):\n",
        "  sum_3 += i \n",
        "\n",
        "print(sum_1)\n",
        "print(sum_2)\n",
        "print(sum_3)\n",
        "\n",
        "print(sum_1 - sum_2 * sum_3)\n"
      ],
      "execution_count": 78,
      "outputs": [
        {
          "output_type": "stream",
          "text": [
            "5050\n",
            "10\n",
            "591\n",
            "-860\n"
          ],
          "name": "stdout"
        }
      ]
    },
    {
      "cell_type": "code",
      "metadata": {
        "colab": {
          "base_uri": "https://localhost:8080/"
        },
        "id": "h4eDZZdVr15Z",
        "outputId": "748c870e-5015-467a-bf3e-19b90ec05ff1"
      },
      "source": [
        "x = 1\n",
        "sum = 0 \n",
        "\n",
        "while x < 101:\n",
        "  x += 1\n",
        "  if x > 6:\n",
        "    sum += x\n",
        "    continue\n",
        "  if x > 80:\n",
        "    break\n",
        "\n",
        "print(sum)\n",
        "\n"
      ],
      "execution_count": 82,
      "outputs": [
        {
          "output_type": "stream",
          "text": [
            "5130\n"
          ],
          "name": "stdout"
        }
      ]
    },
    {
      "cell_type": "code",
      "metadata": {
        "colab": {
          "base_uri": "https://localhost:8080/"
        },
        "id": "KLmYhG0stad8",
        "outputId": "80d44bb7-ab4c-471b-e32f-6c326b00138a"
      },
      "source": [
        "# 1부터 100까지 숫자 중 2~80의 합을 구하기 \n",
        "\n",
        "x = 1 \n",
        "sum = 0 \n",
        "\n",
        "while x < 101:\n",
        "  x += 1\n",
        "  if x > 1:\n",
        "    sum += x \n",
        "    continue\n",
        "  if x < 81:\n",
        "    break\n",
        "print(sum)\n",
        "\n"
      ],
      "execution_count": 90,
      "outputs": [
        {
          "output_type": "stream",
          "text": [
            "5150\n"
          ],
          "name": "stdout"
        }
      ]
    },
    {
      "cell_type": "code",
      "metadata": {
        "colab": {
          "base_uri": "https://localhost:8080/"
        },
        "id": "B4DnGUEJuiW0",
        "outputId": "a610eb0a-0cb3-4693-b763-7caf77e2ea61"
      },
      "source": [
        "# 1부터 100까지 숫자 중 3부터 93까지 합 구하기 \n",
        "\n",
        "\n",
        "x = 1\n",
        "sum = 0\n",
        "\n",
        "while x < 101:\n",
        "  x += 1\n",
        "  if x < 2:\n",
        "    continue\n",
        "  sum += x\n",
        "  if x > 94:\n",
        "    break\n",
        "print(sum)"
      ],
      "execution_count": 95,
      "outputs": [
        {
          "output_type": "stream",
          "text": [
            "4559\n"
          ],
          "name": "stdout"
        }
      ]
    },
    {
      "cell_type": "code",
      "metadata": {
        "colab": {
          "base_uri": "https://localhost:8080/"
        },
        "id": "VKCSySyAvnjD",
        "outputId": "1e05b101-70d7-4570-9926-b0878657abf5"
      },
      "source": [
        "x = lambda a, b : a **b\n",
        "print(x(2,5))"
      ],
      "execution_count": 96,
      "outputs": [
        {
          "output_type": "stream",
          "text": [
            "32\n"
          ],
          "name": "stdout"
        }
      ]
    },
    {
      "cell_type": "code",
      "metadata": {
        "colab": {
          "base_uri": "https://localhost:8080/"
        },
        "id": "T9vSyq7OvwNE",
        "outputId": "e1e4b5c6-c093-4378-d403-5f946b091aaf"
      },
      "source": [
        "x = lambda a, b, c : (a * b)-c\n",
        "print(x(2,3,5))\n"
      ],
      "execution_count": 101,
      "outputs": [
        {
          "output_type": "stream",
          "text": [
            "1\n"
          ],
          "name": "stdout"
        }
      ]
    },
    {
      "cell_type": "code",
      "metadata": {
        "colab": {
          "base_uri": "https://localhost:8080/"
        },
        "id": "jMemItjUwJYD",
        "outputId": "efebb225-f8bc-4949-a2bd-324df9d73ee8"
      },
      "source": [
        "x = lambda a, b, c : (a*c)/c\n",
        "print(x(20,5,2))"
      ],
      "execution_count": 102,
      "outputs": [
        {
          "output_type": "stream",
          "text": [
            "20.0\n"
          ],
          "name": "stdout"
        }
      ]
    },
    {
      "cell_type": "code",
      "metadata": {
        "id": "KjHdWlWhwW48"
      },
      "source": [
        "# 97을 40으로 나눈 몫과 나머지를 divmod로 구할 수 있다 \n",
        "\n",
        "a, b = 97, 40\n",
        "divmod(a,b)\n"
      ],
      "execution_count": null,
      "outputs": []
    },
    {
      "cell_type": "markdown",
      "metadata": {
        "id": "PIFgvYoNwjZq"
      },
      "source": [
        "0626 일지 : \n",
        "국비교육 1주일차 환장할 것 같다. 이해 했다고 생각했던 계속 배운 내용들을 까먹는다. \n",
        "\n",
        "정말 답답한 것은 응용이 안 된다. 간단한 문법은 어찌저찌 사용할 수 있는데 조금만 응용이 들어가면 어떻게 해야 하는지 감이 와서 코드를 짜면 에러를 뱉는다. \n",
        "\n",
        "급기야 이 문법들을 실제로 얼마나 많이 써먹나를 계산하고 있다.\n",
        "그거 이전에 기본이 되어있어야 모듈이고 패키지고 활용 할 수 있을텐데. \n",
        "\n",
        "어차피 장기전이다. 번아웃 오면 끝장이다. 쉴 땐 쉬어야지.\n",
        "잘 하는 것을 목표로 하지 말고 끝내는 것을 목표로 해야겠다.\n",
        "\n",
        "에러가 나오는 이유 :\n",
        "1) 그냥 구조 자체를 잘못짬 \n",
        "머리 자체가 멍 해지는 느낌이다 \n",
        ">> 남들이 짜놓은 코드를 보면 이해가 된다. \n",
        "하지만 처음부터 내가 짠 코드가 먹힌 적은 100번중에 2번 있을까 말까? \n",
        "\n",
        "2) 오타 >> 고질적인 문제다. 죽겠음.  \n",
        "\n",
        "3) 연습 부족으로 문법 이해 잘 못 함 \n",
        ">> 같은 문법 사용으로 여러번 반복하며 풀고 있다. \n",
        "마치 수학 드릴 문제 푸는 것 처럼 반복 하며 익숙해 지도록 연습 중이다. \n",
        "그나마 다행인 건 이해 한 것은 스스로 풀이 과정을 설명할 수 있다. "
      ]
    }
  ]
}