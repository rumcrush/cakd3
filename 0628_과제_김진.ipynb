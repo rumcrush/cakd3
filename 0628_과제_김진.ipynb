{
  "nbformat": 4,
  "nbformat_minor": 5,
  "metadata": {
    "kernelspec": {
      "display_name": "Python 3",
      "language": "python",
      "name": "python3"
    },
    "language_info": {
      "codemirror_mode": {
        "name": "ipython",
        "version": 3
      },
      "file_extension": ".py",
      "mimetype": "text/x-python",
      "name": "python",
      "nbconvert_exporter": "python",
      "pygments_lexer": "ipython3",
      "version": "3.8.8"
    },
    "colab": {
      "name": "0628_과제_김진.ipynb",
      "provenance": [],
      "include_colab_link": true
    }
  },
  "cells": [
    {
      "cell_type": "markdown",
      "metadata": {
        "id": "view-in-github",
        "colab_type": "text"
      },
      "source": [
        "<a href=\"https://colab.research.google.com/github/rumcrush/cakd3/blob/main/0628_%EA%B3%BC%EC%A0%9C_%EA%B9%80%EC%A7%84.ipynb\" target=\"_parent\"><img src=\"https://colab.research.google.com/assets/colab-badge.svg\" alt=\"Open In Colab\"/></a>"
      ]
    },
    {
      "cell_type": "code",
      "metadata": {
        "id": "da3b05de",
        "outputId": "53aab4c8-c52c-4e51-b024-3af7f4b685ea"
      },
      "source": [
        "# 과제\n",
        "# Q. 아래 코드를 모든 예외를 처리할 수 있도록 보완하세요\n",
        "\n",
        "list_num = [52,273,32,72,100]\n",
        "try:\n",
        "    num_input = int(input('정수 입력> '))\n",
        "    print('{}번째 요소: {}'.format(num_input, list_num[num_input]))\n",
        "    예외.발생()\n",
        "\n",
        "except ValueError as exception:\n",
        "    print('정수를 입력해 주세요.')\n",
        "    print(type(exception),exception)\n",
        "    \n",
        "except IndexError as exception:\n",
        "    print('리스트의 인덱스를 벗어났어요.')\n",
        "    print(type(exception),exception)\n",
        "    pass\n",
        "\n",
        "except Exception as e: #모든 예외 처리 \n",
        "    print(e)\n",
        "\n",
        "finally:\n",
        "    print('모든 예외 처리')"
      ],
      "id": "da3b05de",
      "execution_count": null,
      "outputs": [
        {
          "output_type": "stream",
          "text": [
            "정수 입력> 32\n",
            "리스트의 인덱스를 벗어났어요.\n",
            "<class 'IndexError'> list index out of range\n",
            "모든 예외 처리\n"
          ],
          "name": "stdout"
        }
      ]
    },
    {
      "cell_type": "code",
      "metadata": {
        "id": "e2ad1032",
        "outputId": "a7a46571-0818-4ac5-d3df-02b2c38a8231"
      },
      "source": [
        "# Q1. 기본가격 1000원인 3개의 상품에 대하여 임의의 추가 가격을 인수로 대입하여 \n",
        "# 더한 가격을 산출하세요(클래스를 이용)\n",
        "\n",
        "class Shop():\n",
        "    def __init__(self):\n",
        "        self.result_01 = 1000\n",
        "        self.result_02 = 1000\n",
        "        self.result_03 = 1000\n",
        "    \n",
        "#     def add(self,a):\n",
        "#         self.result_01 += a\n",
        "#         return self.result_01\n",
        "    \n",
        "#     def sum(self,b):\n",
        "#         self.result_02 += b\n",
        "#         return self.result_02\n",
        "    \n",
        "    def duhagi(self, c):\n",
        "        self.result_03 += c\n",
        "        return self.result_03\n",
        "\n",
        "    \n",
        "    \n",
        "obj = Shop()\n",
        "print(obj.add(500))\n",
        "print(obj.sum(400))\n",
        "print(obj.duhagi(200))\n",
        "\n"
      ],
      "id": "e2ad1032",
      "execution_count": null,
      "outputs": [
        {
          "output_type": "stream",
          "text": [
            "1500\n",
            "1400\n",
            "1200\n"
          ],
          "name": "stdout"
        }
      ]
    },
    {
      "cell_type": "code",
      "metadata": {
        "id": "2c195982",
        "outputId": "03fdd9d7-0c4d-4737-d757-6f5282aea1b4"
      },
      "source": [
        "class Shop:\n",
        "    def __init__(self):\n",
        "        self.p = 1000\n",
        "        \n",
        "    def sum(self,price):\n",
        "        self.p += price\n",
        "        \n",
        "        return self.p\n",
        "\n",
        "obj1 = Shop()\n",
        "obj2 = Shop()\n",
        "obj3 = Shop()\n",
        "\n",
        "print(obj1.sum(500))\n",
        "print(obj2.sum(300))\n",
        "print(obj3.sum(100))\n"
      ],
      "id": "2c195982",
      "execution_count": null,
      "outputs": [
        {
          "output_type": "stream",
          "text": [
            "1500\n",
            "1300\n",
            "1100\n"
          ],
          "name": "stdout"
        }
      ]
    },
    {
      "cell_type": "code",
      "metadata": {
        "id": "1b373e14",
        "outputId": "416aa867-811a-45c9-cdde-82c330892b8d"
      },
      "source": [
        "# Q2. 기본가격 1000원인 2개의 상품에 대하여 임의의 추가 가격을 입력시 아래 두개의 \n",
        "# 방식으로 산출하세요(class 이용)\n",
        "# - price1 : 기본가격 + 추가가격\n",
        "# - price2 : (기본가격 + 추가가격) * 90%\n",
        "\n",
        "\n",
        "class Mise():\n",
        "    def __init__(self):\n",
        "        self.result_01 = 1000\n",
        "        self.result_02 = 1000\n",
        "    \n",
        "    def add_01(self,a):\n",
        "        self.result_01 += a\n",
        "        return self.result_01\n",
        "    \n",
        "    def sale_01(self,a):\n",
        "        (self.result_01 + a) * 0.9\n",
        "        return self.result_01\n",
        "    \n",
        "    def add_02(self,b):\n",
        "        self.result_02 += b\n",
        "        return self.result_02\n",
        "    \n",
        "    def sale_02(self,b):\n",
        "        self.result_02 += b * 0.9\n",
        "        return self.result_02\n",
        "\n",
        "\n",
        "\n",
        "    \n",
        "    \n",
        "obj = Mise()\n",
        "print(obj.add_01(500))\n",
        "print(obj.sale_01(1000))\n",
        "print(obj.add_02(1500))\n",
        "print(obj.sale_02(2000))\n",
        "\n"
      ],
      "id": "1b373e14",
      "execution_count": null,
      "outputs": [
        {
          "output_type": "stream",
          "text": [
            "1500\n",
            "1500\n",
            "2500\n",
            "4300.0\n"
          ],
          "name": "stdout"
        }
      ]
    },
    {
      "cell_type": "code",
      "metadata": {
        "id": "2fbb5be2",
        "outputId": "9f668145-03ed-48e8-e9e6-a9fef486531c"
      },
      "source": [
        "# Q3. 임의의 클래스를 작성한 후 인스턴스를 생성하고 그것의 타입을 확인하세요.\n",
        "\n",
        "class Kari():\n",
        "    def sayCat(self, name):\n",
        "        print('%s는 Nya하고 운다' %name)\n",
        "    \n",
        "    def sayDog(self, name):\n",
        "        print('%s는 Bow Wow 하고 짖는다' %name)\n",
        "        \n",
        "        \n",
        "        \n",
        "        \n",
        "obj = Kari()\n",
        "print(type(obj))\n",
        "\n",
        "isinstance(Kari, type) #클래스이기 때문에 True가 나옴 \n",
        "\n",
        "# print(obj.sayCat('까미'))"
      ],
      "id": "2fbb5be2",
      "execution_count": null,
      "outputs": [
        {
          "output_type": "stream",
          "text": [
            "<class '__main__.Kari'>\n"
          ],
          "name": "stdout"
        },
        {
          "output_type": "execute_result",
          "data": {
            "text/plain": [
              "True"
            ]
          },
          "metadata": {
            "tags": []
          },
          "execution_count": 4
        }
      ]
    },
    {
      "cell_type": "code",
      "metadata": {
        "id": "16956846",
        "outputId": "a8b989b4-2959-4980-c710-8e6e7c223b60"
      },
      "source": [
        "# Q4. 4칙 연산 기능을 포함한 Cal4 클래스(생성자 이용)를 작성하고 이 클래스를 \n",
        "# 이용하여 cal1 계산기 객체를 만든 후 두개의 수  5,3에 대한 사칙연산을 수행하세요.\n",
        "\n",
        "class Cal4(): \n",
        "    def __init__(self, a1, b1): #생성자 만듬 \n",
        "        self.a1 = a1\n",
        "        self.b1 = b1\n",
        "        \n",
        "    def sum(self):\n",
        "        result = self.a1 + self.b1\n",
        "        return result\n",
        "    \n",
        "    def sub(self):\n",
        "        result = self.a1 - self.b1\n",
        "        return result\n",
        "\n",
        "    def mul(self):\n",
        "        result = self.a1 * self.b1\n",
        "        return result\n",
        "\n",
        "    \n",
        "    def div(self):\n",
        "        result = self.a1 / self.b1\n",
        "        return result\n",
        "\n",
        "    \n",
        "a = Cal4(5,3)\n",
        "    \n",
        "print(a.sum())\n",
        "print(a.sub())\n",
        "print(a.mul())\n",
        "print(a.div())"
      ],
      "id": "16956846",
      "execution_count": null,
      "outputs": [
        {
          "output_type": "stream",
          "text": [
            "8\n",
            "2\n",
            "15\n",
            "1.6666666666666667\n"
          ],
          "name": "stdout"
        }
      ]
    },
    {
      "cell_type": "code",
      "metadata": {
        "id": "644e45e6",
        "outputId": "6338ff80-e61f-4550-beee-f1472904ddeb"
      },
      "source": [
        "# Q5. 4칙 연산 기능을 포함한 Cal4 클래스(set 메소드 이용)를 작성하고 이 클래스를 \n",
        "# 이용하여 cal 계산기 객체를 만든 후 두개의 수를 입력하여 사칙연산을 수행한 결과를 \n",
        "# 출력하세요.\n",
        "\n",
        "class Cal4(): \n",
        "    \n",
        "    first = int(input('입력1 >> '))\n",
        "    second = int(input('입력2 >> '))\n",
        "    \n",
        "    \n",
        "    def set(self,first, second):\n",
        "        self.first = first\n",
        "        self.second = second\n",
        "        \n",
        "    def add(self):\n",
        "        result = self.first + self.second\n",
        "        return result\n",
        "    \n",
        "    def sub(self):\n",
        "        result = self.first - self.second\n",
        "        return result\n",
        "    \n",
        "    def mul(self):\n",
        "        result = self.first * self.second\n",
        "        return result\n",
        "    \n",
        "    def div(self):\n",
        "        result = self.first / self.second\n",
        "        return result\n",
        "\n",
        "    \n",
        "obj = Cal4()\n",
        "\n",
        "obj.set(10,2)\n",
        "\n",
        "print(obj.add())\n",
        "print(obj.sub())\n",
        "print(obj.mul())\n",
        "print(obj.div())"
      ],
      "id": "644e45e6",
      "execution_count": null,
      "outputs": [
        {
          "output_type": "stream",
          "text": [
            "입력1 >> 5\n",
            "입력2 >> 10\n",
            "12\n",
            "8\n",
            "20\n",
            "5.0\n"
          ],
          "name": "stdout"
        }
      ]
    },
    {
      "cell_type": "code",
      "metadata": {
        "id": "552de62f"
      },
      "source": [
        "# Q6. Order 클래스를 상속받아 extraOrder 클래스를 작성하고 extraCustomer의 \n",
        "# 주문가격을 다음과 같이 산출하였다. \n",
        "# ExtraOrder 클래스를 작성하세요\n",
        "\n",
        "\n",
        "class Order: \n",
        "    def __init__(self, name): \n",
        "        self.customer = 0 \n",
        "        self.name = name \n",
        "        \n",
        "    def order(self, price): \n",
        "        self.customer += price \n",
        "        return self.customer \n",
        "    \n",
        "class ExtraOrder(Order): \n",
        "    def name(self, name):\n",
        "        self.name += name\n",
        "        return (self.name)\n",
        "\n",
        "# obj = ExtraOrder\n",
        "# obj.name('kevin')"
      ],
      "id": "552de62f",
      "execution_count": null,
      "outputs": []
    },
    {
      "cell_type": "code",
      "metadata": {
        "id": "989cecf2",
        "outputId": "f511397e-c1b3-41a8-9359-47c52b379596"
      },
      "source": [
        "# Q7. Order 클래스를 상속받아 extraOrder 클래스에서 메소드 오버라이딩하여 출력가격에 \n",
        "# '원'이 추가되도록 출력하세요\n",
        "\n",
        "class Order:\n",
        "    def __init__(self, name):\n",
        "        self.customer = 0 \n",
        "        self.name = name \n",
        "        \n",
        "    def order(self, price):\n",
        "        self.customer += price\n",
        "        return self.customer\n",
        "    \n",
        "class extraOrder(Order):\n",
        "    def order(self, price):\n",
        "        self.customer += price\n",
        "        return str(self.customer) + '원'\n",
        "    \n",
        "    \n",
        "extraCustomer = extraOrder('kevin') \n",
        "print(extraCustomer.order(1000))   \n"
      ],
      "id": "989cecf2",
      "execution_count": null,
      "outputs": [
        {
          "output_type": "stream",
          "text": [
            "1000원\n"
          ],
          "name": "stdout"
        }
      ]
    },
    {
      "cell_type": "code",
      "metadata": {
        "id": "d02d5258",
        "outputId": "1f3e1aa7-b261-45a3-97fd-d71ec6ce5482"
      },
      "source": [
        "class Order:\n",
        "    def __init__(self, name):\n",
        "        self.customer = 0 \n",
        "        self.name = name \n",
        "        \n",
        "    def order(self, price):\n",
        "        self.customer += price\n",
        "        return self.customer\n",
        "    \n",
        "class extraOrder(Order):\n",
        "    def order(self, price):\n",
        "        self.customer += price\n",
        "        return \"{}원\".format(self.customer)\n",
        "    \n",
        "obj = extraOrder('kevin')\n",
        "obj.order(1000)"
      ],
      "id": "d02d5258",
      "execution_count": null,
      "outputs": [
        {
          "output_type": "execute_result",
          "data": {
            "text/plain": [
              "'1000원'"
            ]
          },
          "metadata": {
            "tags": []
          },
          "execution_count": 24
        }
      ]
    },
    {
      "cell_type": "code",
      "metadata": {
        "id": "e93756b9",
        "outputId": "c13ef2e1-ad53-420d-d7c3-44ed83875c0a"
      },
      "source": [
        "# Q8. 업무미팅이 2시임을 알려주는 자동 이메일을 클래스 AutoEmail을 작성하여 \n",
        "# 아래와 같이 출력하세요.\n",
        "# 안녕하세요. kevin님, \n",
        "# 업무미팅은 2시입니다.\n",
        "\n",
        "import datetime\n",
        "t = datetime.datetime.now\n",
        "\n",
        "class AutoEmail:\n",
        "    \n",
        "    def sayhello(self, name, time):\n",
        "        return(\"안녕하세요 %s님\" %name )\n",
        "    \n",
        "    def hour(self):\n",
        "        return(\"업무미팅은 2시입니다.\")\n",
        "\n",
        "\n",
        "obj = AutoEmail()\n",
        "print(obj.sayhello('kevin',2))\n",
        "print(obj.hour())\n",
        "\n"
      ],
      "id": "e93756b9",
      "execution_count": null,
      "outputs": [
        {
          "output_type": "stream",
          "text": [
            "안녕하세요 kevin님\n",
            "업무미팅은 2시입니다.\n"
          ],
          "name": "stdout"
        }
      ]
    },
    {
      "cell_type": "markdown",
      "metadata": {
        "id": "cc113b1e"
      },
      "source": [
        "날짜/시간"
      ],
      "id": "cc113b1e"
    },
    {
      "cell_type": "code",
      "metadata": {
        "id": "316f920e",
        "outputId": "782fb3c8-e886-439b-92f5-ddc56e927fff"
      },
      "source": [
        "# Q1. 1609160537.371015을 \"Sat Jun 26 08:35:03 2021\" 포멧으로 출력하세요.\n",
        "\n",
        "import time\n",
        "string = time.ctime(1609160537.371015)\n",
        "print(string)"
      ],
      "id": "316f920e",
      "execution_count": null,
      "outputs": [
        {
          "output_type": "stream",
          "text": [
            "Mon Dec 28 22:02:17 2020\n"
          ],
          "name": "stdout"
        }
      ]
    },
    {
      "cell_type": "code",
      "metadata": {
        "id": "5a453f99",
        "outputId": "5a8332b5-cbdf-4883-a729-b6752918359b"
      },
      "source": [
        "# Q2. 현재 날짜와 시간을 \"Sat Jun 26 08:35:03 2021\" 포멧으로 출력하세요.\n",
        "\n",
        "import time\n",
        "time.time()\n",
        "\n",
        "time.strftime('%c', time.localtime(time.time())) #strftime 날짜, 시간을 스트링으로 변환"
      ],
      "id": "5a453f99",
      "execution_count": null,
      "outputs": [
        {
          "output_type": "execute_result",
          "data": {
            "text/plain": [
              "'Tue Jun 29 09:39:10 2021'"
            ]
          },
          "metadata": {
            "tags": []
          },
          "execution_count": 5
        }
      ]
    },
    {
      "cell_type": "code",
      "metadata": {
        "id": "e4894557",
        "outputId": "c7c024b2-18e3-4b2e-9106-6d155f414116"
      },
      "source": [
        "t = time.localtime(1609160537.371015)\n",
        "time.asctime(t) #주어진 시간 구하기 "
      ],
      "id": "e4894557",
      "execution_count": null,
      "outputs": [
        {
          "output_type": "execute_result",
          "data": {
            "text/plain": [
              "'Mon Dec 28 22:02:17 2020'"
            ]
          },
          "metadata": {
            "tags": []
          },
          "execution_count": 6
        }
      ]
    },
    {
      "cell_type": "code",
      "metadata": {
        "id": "59234131",
        "outputId": "6efb3027-7616-4f22-e1cd-a521fb370448"
      },
      "source": [
        "# Q3. 현재 시간을 년-월-일 시:분:초로 출력하세요.\n",
        "\n",
        "time.strftime('%y년-%m월-%d일 %H시:%M분:%S초')"
      ],
      "id": "59234131",
      "execution_count": null,
      "outputs": [
        {
          "output_type": "execute_result",
          "data": {
            "text/plain": [
              "'21년-06월-28일 18시:07분:59초'"
            ]
          },
          "metadata": {
            "tags": []
          },
          "execution_count": 88
        }
      ]
    },
    {
      "cell_type": "code",
      "metadata": {
        "id": "ab46dce1",
        "outputId": "46abaafd-8244-4cc9-f788-11a32aee3644"
      },
      "source": [
        "import time\n",
        "t = time.time()\n",
        "ct = time.strftime(\"%Y-%m-%d %S\", time.localtime(t))\n",
        "ct\n",
        "\n"
      ],
      "id": "ab46dce1",
      "execution_count": null,
      "outputs": [
        {
          "output_type": "execute_result",
          "data": {
            "text/plain": [
              "'2021-06-29 22'"
            ]
          },
          "metadata": {
            "tags": []
          },
          "execution_count": 15
        }
      ]
    },
    {
      "cell_type": "code",
      "metadata": {
        "id": "e7a01bdd",
        "outputId": "3ead4a08-7a72-4dcc-a95f-cd74ba09833b"
      },
      "source": [
        "from time import strftime\n",
        "t = time.time()\n",
        "ct = strftime(\"%Y-%m-%d %X\", time.localtime(t))\n",
        "ct"
      ],
      "id": "e7a01bdd",
      "execution_count": null,
      "outputs": [
        {
          "output_type": "execute_result",
          "data": {
            "text/plain": [
              "'2021-06-29 09:45:36'"
            ]
          },
          "metadata": {
            "tags": []
          },
          "execution_count": 16
        }
      ]
    },
    {
      "cell_type": "code",
      "metadata": {
        "id": "a748c290",
        "outputId": "605e8253-7a74-42b7-821c-70c1594be427"
      },
      "source": [
        "# Q4. 올해 경과된 날짜수 계산하세요\n",
        "\n",
        "from datetime import date #년월일시 불러오기 # 오늘 날짜 - 올해 첫날짜\n",
        "\n",
        "year = date(2021,1,1) #올해 첫 날짜를 date로 변환\n",
        "print(year)\n",
        "\n",
        "today = date(2021,6,29) #6월 29일 변환 \n",
        "print(today)\n",
        "\n",
        "delta = today - year # datetime.timedelta >> 두 날짜의 기간 차이 비교 할때 사용 \n",
        "print(delta.days, '일이 지났습니다')\n",
        "\n"
      ],
      "id": "a748c290",
      "execution_count": null,
      "outputs": [
        {
          "output_type": "stream",
          "text": [
            "2021-01-01\n",
            "2021-06-29\n",
            "179 일이 지났습니다\n"
          ],
          "name": "stdout"
        }
      ]
    },
    {
      "cell_type": "code",
      "metadata": {
        "id": "ed0326d5",
        "outputId": "82f3fc9f-aa3f-4fdd-d674-2434408ce1d2"
      },
      "source": [
        "import datetime \n",
        "a = datetime.datetime(2021,6,28)\n",
        "type(a)\n"
      ],
      "id": "ed0326d5",
      "execution_count": null,
      "outputs": [
        {
          "output_type": "execute_result",
          "data": {
            "text/plain": [
              "datetime.datetime"
            ]
          },
          "metadata": {
            "tags": []
          },
          "execution_count": 19
        }
      ]
    },
    {
      "cell_type": "code",
      "metadata": {
        "id": "f0c92c0d",
        "outputId": "6460175a-bc8e-4d2b-f86e-accea59f0796"
      },
      "source": [
        "# Q5. 현재 요일을 \"2021-6-26 오늘은 토요일입니다.\"와 같은 형식으로 출력하세요.\n",
        "\n",
        "import datetime\n",
        "today = datetime.datetime.now()\n",
        "\n",
        "day_01 = ['월', '화', '수', '목', '금', '토', '일']\n",
        "\n",
        "\n",
        "\n",
        "day_02 = time.localtime().tm_wday #오늘 날짜 배열에 맞춰 알려주게 만듬\n",
        "day_03 = day_01[day_02]  # 오늘 요일 \n",
        "\n",
        "a = today.year, today.month, today.day\n",
        "print(today.year, today.month, today.day)\n",
        "print('오늘은 ' + day_03 +' 요일입니다')\n"
      ],
      "id": "f0c92c0d",
      "execution_count": null,
      "outputs": [
        {
          "output_type": "stream",
          "text": [
            "2021 6 28\n",
            "오늘은 월 요일입니다\n"
          ],
          "name": "stdout"
        }
      ]
    },
    {
      "cell_type": "code",
      "metadata": {
        "id": "59405c8d",
        "outputId": "53f54a65-7188-4b32-d2f0-a21e58cbedc7"
      },
      "source": [
        "# 1000 밀리초(ms) = 1초\n",
        "# Q6. 1에서 백만까지 더하는데 걸리는 프로그램 실행 시간을 밀리초(ms) 단위로 구하세요.\n",
        "\n",
        "import timeit\n",
        "\n",
        "start_time = timeit.default_timer() #시작 전 시간 체크 \n",
        "    \n",
        "sum = 0 \n",
        "\n",
        "for i in range(10000001):\n",
        "    sum += i\n",
        "    \n",
        "terminate_time = timeit.default_timer() #끝나는 시간 체크 \n",
        "\n",
        "a = terminate_time - start_time # 초단위로 먼저 계산\n",
        "b = a * 1000 #밀리초로 환산 초 x 1000\n",
        "print(b) # 밀리초 \n",
        "\n",
        "\n",
        "\n",
        "print(\"%f초 걸렸습니다.\" % b)"
      ],
      "id": "59405c8d",
      "execution_count": null,
      "outputs": [
        {
          "output_type": "stream",
          "text": [
            "1169.0258999999514\n",
            "1169.025900초 걸렸습니다.\n"
          ],
          "name": "stdout"
        }
      ]
    }
  ]
}